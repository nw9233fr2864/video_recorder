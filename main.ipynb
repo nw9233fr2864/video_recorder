{
 "cells": [
  {
   "cell_type": "code",
   "execution_count": 28,
   "id": "99dc8b95-c024-48eb-b957-14bbfeac2f1f",
   "metadata": {},
   "outputs": [],
   "source": [
    "import cv2 as cv\n",
    "import numpy as np\n",
    "import datetime as dtime\n",
    "video_file = 'rtsp://210.99.70.120:1935/live/cctv002.stream'\n",
    "target_format = 'avi'\n",
    "target_fourcc = 'XVID'\n",
    "\n",
    "video = cv.VideoCapture(video_file)\n",
    "\n",
    "if(video.isOpened()):\n",
    "    target = cv.VideoWriter()\n",
    "    \n",
    "    record_mode = False\n",
    "    fps = int(video.get(cv.CAP_PROP_FPS)/1500) # video.get(cv.CAP_PROP_FPS) == 90000\n",
    "    wait_msec = int(1/fps*1000+1) # +1 to avoid hesitation from flooring fps\n",
    "    \n",
    "    while True:\n",
    "        valid, img  = video.read()\n",
    "        if not valid:\n",
    "            break\n",
    "            \n",
    "       \n",
    "        if not target.isOpened() and record_mode:\n",
    "            target_file = d.strftime('%Y%m%d')+'_'+d.strftime('%H%M%S')+'.' + target_format\n",
    "            h, w, *_ = img.shape\n",
    "            is_color = (img.ndim > 2) and (img.shape[2] > 1)\n",
    "            target.open(target_file, cv.VideoWriter_fourcc(*target_fourcc), fps, (w, h), is_color)\n",
    "       \n",
    "        if record_mode:\n",
    "            target.write(img)\n",
    "            cv.putText(img, 'Recording', (10, 25), cv.FONT_HERSHEY_DUPLEX, 1, (66, 66, 255), thickness=2)\n",
    "\n",
    "        cv.putText(img, f'{fps}fps', (560, 25), cv.FONT_HERSHEY_DUPLEX, 0.5, (127, 255, 127), thickness=1)\n",
    "        cv.imshow('Video Player', img)\n",
    "\n",
    "        key = cv.waitKey(wait_msec)\n",
    "        if key == 27:\n",
    "            break\n",
    "        elif key == ord(' '):\n",
    "            if record_mode:\n",
    "                record_mode = False\n",
    "                target.release()\n",
    "                target = cv.VideoWriter()\n",
    "            else:\n",
    "                record_mode = True\n",
    "                d = dtime.datetime.now()\n",
    "        elif key == ord('<') or key == ord(','):\n",
    "            fps = max(15,int(fps/2))\n",
    "            wait_msec = int(1/fps*1000+1)\n",
    "        elif key == ord('>') or key == ord('.'):\n",
    "            fps = min(480,int(fps*2))\n",
    "            wait_msec = int(1/fps*1000+1)\n",
    "\n",
    "    cv.destroyAllWindows()"
   ]
  }
 ],
 "metadata": {
  "kernelspec": {
   "display_name": "Python 3 (ipykernel)",
   "language": "python",
   "name": "python3"
  },
  "language_info": {
   "codemirror_mode": {
    "name": "ipython",
    "version": 3
   },
   "file_extension": ".py",
   "mimetype": "text/x-python",
   "name": "python",
   "nbconvert_exporter": "python",
   "pygments_lexer": "ipython3",
   "version": "3.10.13"
  }
 },
 "nbformat": 4,
 "nbformat_minor": 5
}
